{
 "cells": [
  {
   "attachments": {},
   "cell_type": "markdown",
   "metadata": {},
   "source": [
    "## Maquina Enigma en Python"
   ]
  },
  {
   "cell_type": "code",
   "execution_count": 27,
   "metadata": {},
   "outputs": [],
   "source": [
    "#SANTIAGO SUAREZ, HOLAAAAAA SERGIO CARRASQUILLA"
   ]
  },
  {
   "cell_type": "code",
   "execution_count": 1,
   "metadata": {},
   "outputs": [
    {
     "name": "stdout",
     "output_type": "stream",
     "text": [
      "['A', 'B', 'C', 'D', 'E', 'F', 'G', 'H', 'I', 'J', 'K', 'L', 'M', 'N', 'O', 'P', 'Q', 'R', 'S', 'T', 'U', 'V', 'W', 'X', 'Y', 'Z', ' ', '.']\n",
      "28\n"
     ]
    }
   ],
   "source": [
    "#declaración del alfabeto para usar en la maquina\n",
    "st = ['A', 'B', 'C', 'D', 'E', 'F', 'G', 'H', 'I', 'J', 'K', 'L', 'M', 'N', 'O', 'P', 'Q', 'R', 'S', 'T', 'U', 'V', 'W', 'X', 'Y', 'Z', ' ', '.']\n",
    "print(st)\n",
    "print(len(st))"
   ]
  },
  {
   "cell_type": "code",
   "execution_count": 2,
   "metadata": {},
   "outputs": [
    {
     "name": "stdout",
     "output_type": "stream",
     "text": [
      "['A', 'X', 'B', 'C', 'D', 'E', 'F', 'G', 'D', 'I', 'J', 'K', 'G', 'M', 'K', 'M', 'I', 'E', 'B', 'X', 'F', 'T', 'C', 'V', 'V', 'J', 'A', 'T']\n",
      "28\n"
     ]
    }
   ],
   "source": [
    "#reflector\n",
    "rf = ['A', 'X', 'B', 'C', 'D', 'E', 'F', 'G', 'D', 'I', 'J', 'K', 'G', 'M', 'K', 'M', 'I', 'E', 'B', 'X', 'F', 'T', 'C', 'V', 'V', 'J', 'A', 'T']\n",
    "print(rf)\n",
    "print(len(rf))"
   ]
  },
  {
   "cell_type": "code",
   "execution_count": 3,
   "metadata": {},
   "outputs": [
    {
     "name": "stdout",
     "output_type": "stream",
     "text": [
      "28\n"
     ]
    }
   ],
   "source": [
    "#rotor derecho\n",
    "r_der = ['B', 'D', 'F', 'H', 'J', 'L', 'C', 'P', 'R', 'T', 'X', 'V', 'Z', ' ', 'N', '.', 'Y', 'E', 'I', 'W', 'G', 'A', 'K', 'M', 'U', 'S', 'Q', 'O']\n",
    "print(len(r_der))"
   ]
  },
  {
   "cell_type": "code",
   "execution_count": 4,
   "metadata": {},
   "outputs": [
    {
     "name": "stdout",
     "output_type": "stream",
     "text": [
      "28\n"
     ]
    }
   ],
   "source": [
    "#rotor medio\n",
    "r_med = ['.', 'A', 'J', 'D', 'K', 'S', 'I', 'R', 'U', 'X', 'B', 'L', 'H', 'W', 'T', 'M', 'C', 'Q', 'G', ' ', 'Z', 'N', 'P', 'Y', 'F', 'V', 'O', 'E']\n",
    "print(len(r_med))"
   ]
  },
  {
   "cell_type": "code",
   "execution_count": 5,
   "metadata": {},
   "outputs": [
    {
     "name": "stdout",
     "output_type": "stream",
     "text": [
      "28\n"
     ]
    }
   ],
   "source": [
    "#rotor izquierdo\n",
    "r_izq = ['E', 'K', 'M', 'F', 'L', 'G', ' ', 'D', 'Q', 'V', 'Z', 'N', 'T', 'O', '.', 'W', 'Y', 'H', 'X', 'U', 'S', 'P', 'A', 'I', 'B', 'R', 'C', 'J']\n",
    "print(len(r_izq))"
   ]
  },
  {
   "cell_type": "code",
   "execution_count": 6,
   "metadata": {},
   "outputs": [],
   "source": [
    "#convertir rotores en listas de listas, asignandole a cada uno su respectiva letra del alfabeto ordenado\n",
    "rotor_izq = []\n",
    "rotor_med = []\n",
    "rotor_der = []\n",
    "\n",
    "for i in zip(st, r_izq):\n",
    "    rotor_izq.append([i[0], i[1]])\n",
    "    \n",
    "for i in zip(st, r_med):\n",
    "    rotor_med.append([i[0], i[1]])\n",
    "    \n",
    "for i in zip(st, r_der):\n",
    "    rotor_der.append([i[0], i[1]])"
   ]
  },
  {
   "cell_type": "code",
   "execution_count": 7,
   "metadata": {},
   "outputs": [
    {
     "data": {
      "text/plain": [
       "[['A', '.'],\n",
       " ['B', 'A'],\n",
       " ['C', 'J'],\n",
       " ['D', 'D'],\n",
       " ['E', 'K'],\n",
       " ['F', 'S'],\n",
       " ['G', 'I'],\n",
       " ['H', 'R'],\n",
       " ['I', 'U'],\n",
       " ['J', 'X'],\n",
       " ['K', 'B'],\n",
       " ['L', 'L'],\n",
       " ['M', 'H'],\n",
       " ['N', 'W'],\n",
       " ['O', 'T'],\n",
       " ['P', 'M'],\n",
       " ['Q', 'C'],\n",
       " ['R', 'Q'],\n",
       " ['S', 'G'],\n",
       " ['T', ' '],\n",
       " ['U', 'Z'],\n",
       " ['V', 'N'],\n",
       " ['W', 'P'],\n",
       " ['X', 'Y'],\n",
       " ['Y', 'F'],\n",
       " ['Z', 'V'],\n",
       " [' ', 'O'],\n",
       " ['.', 'E']]"
      ]
     },
     "execution_count": 7,
     "metadata": {},
     "output_type": "execute_result"
    }
   ],
   "source": [
    "rotor_med"
   ]
  },
  {
   "cell_type": "code",
   "execution_count": 8,
   "metadata": {},
   "outputs": [
    {
     "name": "stdout",
     "output_type": "stream",
     "text": [
      "Reflector Rot_Izq Rot_Med Rot_Der Teclado\n",
      "A    A - E    A - .    A - B    A\n",
      "X    B - K    B - A    B - D    B\n",
      "B    C - M    C - J    C - F    C\n",
      "C    D - F    D - D    D - H    D\n",
      "D    E - L    E - K    E - J    E\n",
      "E    F - G    F - S    F - L    F\n",
      "F    G -      G - I    G - C    G\n",
      "G    H - D    H - R    H - P    H\n",
      "D    I - Q    I - U    I - R    I\n",
      "I    J - V    J - X    J - T    J\n",
      "J    K - Z    K - B    K - X    K\n",
      "K    L - N    L - L    L - V    L\n",
      "G    M - T    M - H    M - Z    M\n",
      "M    N - O    N - W    N -      N\n",
      "K    O - .    O - T    O - N    O\n",
      "M    P - W    P - M    P - .    P\n",
      "I    Q - Y    Q - C    Q - Y    Q\n",
      "E    R - H    R - Q    R - E    R\n",
      "B    S - X    S - G    S - I    S\n",
      "X    T - U    T -      T - W    T\n",
      "F    U - S    U - Z    U - G    U\n",
      "T    V - P    V - N    V - A    V\n",
      "C    W - A    W - P    W - K    W\n",
      "V    X - I    X - Y    X - M    X\n",
      "V    Y - B    Y - F    Y - U    Y\n",
      "J    Z - R    Z - V    Z - S    Z\n",
      "A      - C      - O      - Q     \n",
      "T    . - J    . - E    . - O    .\n"
     ]
    }
   ],
   "source": [
    "print(f'Reflector Rot_Izq Rot_Med Rot_Der Teclado')\n",
    "\n",
    "for elem in zip(rf, rotor_izq, rotor_med, rotor_der, st): #juntar todas las listas creadas\n",
    "    print(f'{elem[0]}    {elem[1][0]} - {elem[1][1]}    {elem[2][0]} - {elem[2][1]}    {elem[3][0]} - {elem[3][1]}    {elem[4]}') #tabla para verificar las correspondencias rotor-alfabeto"
   ]
  },
  {
   "cell_type": "code",
   "execution_count": 9,
   "metadata": {},
   "outputs": [],
   "source": [
    "def avanzar_rotor(rotor, paso): #representar el giro del rotor\n",
    "    cuenta = 0\n",
    "    while cuenta < paso: #el ciclo itera tantas veces como se indique en el paso\n",
    "        rotor.append(rotor.pop(0))\n",
    "        cuenta += 1 #aumentar la cuenta del rotor a medida que avanzan los caracteres\n",
    "    return rotor"
   ]
  },
  {
   "cell_type": "code",
   "execution_count": 10,
   "metadata": {},
   "outputs": [],
   "source": [
    "def conf_rotores(clave_inicial): #determinar la posición inicial de los rotores, los rotores avanzan en posición hasta llegar a la clave inicial deseada\n",
    "    while clave_inicial.upper()[0] != rotor_izq[0][0]: #clave letra inicial rotor izq\n",
    "        rotor_izq.append(rotor_izq.pop(0))\n",
    "        \n",
    "    while clave_inicial.upper()[1] != rotor_med[0][0]:  #clave letra inicial rotor med\n",
    "        rotor_med.append(rotor_med.pop(0))\n",
    "\n",
    "    while clave_inicial.upper()[2] != rotor_der[0][0]:  #clave letra inicial rotor der\n",
    "        rotor_der.append(rotor_der.pop(0))"
   ]
  },
  {
   "cell_type": "code",
   "execution_count": 11,
   "metadata": {},
   "outputs": [],
   "source": [
    "conf_rotores('GHI')"
   ]
  },
  {
   "cell_type": "code",
   "execution_count": 12,
   "metadata": {},
   "outputs": [
    {
     "name": "stdout",
     "output_type": "stream",
     "text": [
      "Reflector Rot_Izq Rot_Med Rot_Der Teclado\n",
      "A    G -      H - R    I - R    A\n",
      "X    H - D    I - U    J - T    B\n",
      "B    I - Q    J - X    K - X    C\n",
      "C    J - V    K - B    L - V    D\n",
      "D    K - Z    L - L    M - Z    E\n",
      "E    L - N    M - H    N -      F\n",
      "F    M - T    N - W    O - N    G\n",
      "G    N - O    O - T    P - .    H\n",
      "D    O - .    P - M    Q - Y    I\n",
      "I    P - W    Q - C    R - E    J\n",
      "J    Q - Y    R - Q    S - I    K\n",
      "K    R - H    S - G    T - W    L\n",
      "G    S - X    T -      U - G    M\n",
      "M    T - U    U - Z    V - A    N\n",
      "K    U - S    V - N    W - K    O\n",
      "M    V - P    W - P    X - M    P\n",
      "I    W - A    X - Y    Y - U    Q\n",
      "E    X - I    Y - F    Z - S    R\n",
      "B    Y - B    Z - V      - Q    S\n",
      "X    Z - R      - O    . - O    T\n",
      "F      - C    . - E    A - B    U\n",
      "T    . - J    A - .    B - D    V\n",
      "C    A - E    B - A    C - F    W\n",
      "V    B - K    C - J    D - H    X\n",
      "V    C - M    D - D    E - J    Y\n",
      "J    D - F    E - K    F - L    Z\n",
      "A    E - L    F - S    G - C     \n",
      "T    F - G    G - I    H - P    .\n"
     ]
    }
   ],
   "source": [
    "print(f'Reflector Rot_Izq Rot_Med Rot_Der Teclado')\n",
    "\n",
    "for elem in zip(rf, rotor_izq, rotor_med, rotor_der, st):\n",
    "    print(f'{elem[0]}    {elem[1][0]} - {elem[1][1]}    {elem[2][0]} - {elem[2][1]}    {elem[3][0]} - {elem[3][1]}    {elem[4]}') #tabla de verificación de clave inicial"
   ]
  },
  {
   "cell_type": "code",
   "execution_count": 13,
   "metadata": {},
   "outputs": [],
   "source": [
    "def senal_ida(rotor, indice, verbose=False): #definimos el camino de ida de la letra a través de los rotores\n",
    "    \n",
    "    letra_entrada = rotor[indice][1]\n",
    "    indice_salida = 0\n",
    "    for pares in rotor:\n",
    "        if pares[0] != letra_entrada:\n",
    "            indice_salida += 1\n",
    "        else:\n",
    "            break\n",
    "    return letra_entrada, indice_salida"
   ]
  },
  {
   "cell_type": "code",
   "execution_count": 14,
   "metadata": {},
   "outputs": [
    {
     "data": {
      "text/plain": [
       "('D', 25)"
      ]
     },
     "execution_count": 14,
     "metadata": {},
     "output_type": "execute_result"
    }
   ],
   "source": [
    "senal_ida(rotor_izq, 1) #recorremos al elemento 2 del par desordenado para llegar a su correspondiente en el par ordenado"
   ]
  },
  {
   "cell_type": "code",
   "execution_count": 15,
   "metadata": {},
   "outputs": [],
   "source": [
    "def senal_vuelta(rotor, indice, verbose=False): #definimos el camino de vuelta de la letra a través de los rotores\n",
    "    \n",
    "    letra_entrada = rotor[indice][0]\n",
    "    indice_salida = 0\n",
    "    for pares in rotor:\n",
    "        if pares[1] != letra_entrada:\n",
    "            indice_salida += 1\n",
    "        else:\n",
    "            break\n",
    "    return letra_entrada, indice_salida"
   ]
  },
  {
   "cell_type": "code",
   "execution_count": 16,
   "metadata": {},
   "outputs": [
    {
     "data": {
      "text/plain": [
       "('Q', 2)"
      ]
     },
     "execution_count": 16,
     "metadata": {},
     "output_type": "execute_result"
    }
   ],
   "source": [
    "senal_vuelta(rotor_izq, 10) #recorremos al elemento 10 del par ordenado para llegar a su correspondiente en el par desordenado"
   ]
  },
  {
   "cell_type": "code",
   "execution_count": 17,
   "metadata": {},
   "outputs": [],
   "source": [
    "def indice_reflector(disco, indice, verbose=False): #definimos el indice del reflector\n",
    "    letra_entrada = disco[indice] #letra de entrada, en la salida del rotor anterior\n",
    "    if indice == (len(disco) - 1):\n",
    "        for i in range(len(disco)): \n",
    "            if disco[i] == letra_entrada: #busca la coincidencia del tramo y nos retorna esos valores \n",
    "                return letra_entrada, i\n",
    "    else:\n",
    "        for j in range(indice + 1, len(disco)): #buscar desde el inicio del reflector hasta el indice anterior\n",
    "            if disco[j] == letra_entrada:\n",
    "                return letra_entrada, j\n",
    "            else:\n",
    "                for k in range(indice):\n",
    "                    if disco[k] == letra_entrada:\n",
    "                        return letra_entrada, k"
   ]
  },
  {
   "cell_type": "code",
   "execution_count": 18,
   "metadata": {},
   "outputs": [
    {
     "name": "stdout",
     "output_type": "stream",
     "text": [
      "('A', 26)\n",
      "('X', 19)\n",
      "('B', 18)\n",
      "('C', 22)\n",
      "('D', 8)\n",
      "('E', 17)\n",
      "('F', 20)\n",
      "('G', 12)\n",
      "('D', 4)\n",
      "('I', 16)\n",
      "('J', 25)\n",
      "('K', 14)\n",
      "('G', 7)\n",
      "('M', 15)\n",
      "('K', 11)\n",
      "('M', 13)\n",
      "('I', 9)\n",
      "('E', 5)\n",
      "('B', 2)\n",
      "('X', 1)\n",
      "('F', 6)\n",
      "('T', 27)\n",
      "('C', 3)\n",
      "('V', 24)\n",
      "('V', 23)\n",
      "('J', 10)\n",
      "('A', 0)\n",
      "('T', 21)\n"
     ]
    }
   ],
   "source": [
    "for i in range(len(rf)): #hallamos el respectivo indice de letra de entrada y su valor correspondiente en la lista\n",
    "    print(indice_reflector(rf, i))"
   ]
  },
  {
   "cell_type": "code",
   "execution_count": 19,
   "metadata": {},
   "outputs": [],
   "source": [
    "def enigma(mensaje, clave): #paso final, unir todas las funciones \n",
    "    \n",
    "    conf_rotores(clave)\n",
    "    \n",
    "    mensaje_final = []\n",
    "    for i in mensaje.upper():\n",
    "        avanzar_rotor(rotor_der, 1) #avance del rotor der por cada caracter escrito\n",
    "        if rotor_der[-1][0] == 'V': \n",
    "            avanzar_rotor(rotor_med, 1) #avance del rotor medio debido al avance del rotor der\n",
    "            if rotor_med[-1][0] == 'Q':\n",
    "                avanzar_rotor(rotor_izq, 1) #avance del rotor izq debido al avance del rotor medio \n",
    "                \n",
    "        indice_entrada = st.index(i)\n",
    "        \n",
    "        primer_paso = senal_ida(rotor_der, indice_entrada) #pasar señal de ida a rotor medio\n",
    "        segundo_paso = senal_ida(rotor_med, primer_paso[1]) #pasar señal de ida a rot izq\n",
    "        tercer_paso = senal_ida(rotor_izq, segundo_paso[1]) #pasar señal de ida a ref\n",
    "        rebote = indice_reflector(rf, tercer_paso[1]) #pasar señar de vuelta a rot izq\n",
    "        cuarto_paso = senal_vuelta(rotor_izq, rebote[1]) #pasar señar de vuelta a rot med\n",
    "        quinto_paso = senal_vuelta(rotor_med, cuarto_paso[1]) #pasar señar de vuelta a rot der\n",
    "        sexto_paso = senal_vuelta(rotor_der, quinto_paso[1]) #devolver señal al teclado\n",
    "        mensaje_final.append(st[sexto_paso[1]])\n",
    "        \n",
    "    mensaje_str = ''.join(mensaje_final) #unir elem de la lista en el mensaje final\n",
    "    return mensaje_str"
   ]
  },
  {
   "cell_type": "code",
   "execution_count": 25,
   "metadata": {},
   "outputs": [
    {
     "data": {
      "text/plain": [
       "'IVBKQESZQV'"
      ]
     },
     "execution_count": 25,
     "metadata": {},
     "output_type": "execute_result"
    }
   ],
   "source": [
    "enigma('HOLA MUNDO', 'XHU')"
   ]
  },
  {
   "cell_type": "code",
   "execution_count": 26,
   "metadata": {},
   "outputs": [
    {
     "data": {
      "text/plain": [
       "'HOLA MUNDO'"
      ]
     },
     "execution_count": 26,
     "metadata": {},
     "output_type": "execute_result"
    }
   ],
   "source": [
    "enigma('IVBKQESZQV', 'XHU')"
   ]
  },
  {
   "cell_type": "code",
   "execution_count": null,
   "metadata": {},
   "outputs": [],
   "source": []
  }
 ],
 "metadata": {
  "colab": {
   "collapsed_sections": [],
   "provenance": []
  },
  "kernelspec": {
   "display_name": "Python 3 (ipykernel)",
   "language": "python",
   "name": "python3"
  },
  "language_info": {
   "codemirror_mode": {
    "name": "ipython",
    "version": 3
   },
   "file_extension": ".py",
   "mimetype": "text/x-python",
   "name": "python",
   "nbconvert_exporter": "python",
   "pygments_lexer": "ipython3",
   "version": "3.11.3"
  }
 },
 "nbformat": 4,
 "nbformat_minor": 1
}
